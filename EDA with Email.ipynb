{
 "cells": [
  {
   "cell_type": "code",
   "execution_count": 1,
   "id": "7ecedcf1-f35f-47e1-a6c9-430e300a625f",
   "metadata": {},
   "outputs": [],
   "source": [
    "import numpy as np\n",
    "import pandas as pd\n",
    "import matplotlib.pyplot as plt"
   ]
  },
  {
   "cell_type": "code",
   "execution_count": 9,
   "id": "f6eda188-68ae-41fb-bc3a-86126e7fdf59",
   "metadata": {},
   "outputs": [
    {
     "data": {
      "text/plain": [
       "<mailbox.mbox at 0x2500ed6b850>"
      ]
     },
     "execution_count": 9,
     "metadata": {},
     "output_type": "execute_result"
    }
   ],
   "source": [
    "import mailbox\n",
    "mboxfile = \"D:\\Takeout\\Mail\\All mail Including Spam and Trash.mbox\"\n",
    "mbox = mailbox.mbox(mboxfile)\n",
    "mbox"
   ]
  },
  {
   "cell_type": "code",
   "execution_count": 10,
   "id": "8cea8aba-0fe9-4338-af35-b3af39f76a46",
   "metadata": {},
   "outputs": [
    {
     "name": "stdout",
     "output_type": "stream",
     "text": [
      "X-GM-THRID\n",
      "X-Gmail-Labels\n",
      "Delivered-To\n",
      "Received\n",
      "X-Received\n",
      "ARC-Seal\n",
      "ARC-Message-Signature\n",
      "ARC-Authentication-Results\n",
      "Return-Path\n",
      "Received\n",
      "Received-SPF\n",
      "Authentication-Results\n",
      "ARC-Seal\n",
      "ARC-Message-Signature\n",
      "ARC-Authentication-Results\n",
      "DKIM-Signature\n",
      "X-Google-DKIM-Signature\n",
      "X-Gm-Message-State\n",
      "X-Google-Smtp-Source\n",
      "X-Received\n",
      "X-BeenThere\n",
      "Received\n",
      "X-Received\n",
      "ARC-Seal\n",
      "ARC-Message-Signature\n",
      "ARC-Authentication-Results\n",
      "Received\n",
      "Received-SPF\n",
      "X-Received\n",
      "MIME-Version\n",
      "From\n",
      "Date\n",
      "Message-ID\n",
      "Subject\n",
      "To\n",
      "Content-Type\n",
      "X-Original-Sender\n",
      "X-Original-Authentication-Results\n",
      "Precedence\n",
      "Mailing-list\n",
      "List-ID\n",
      "X-Spam-Checked-In-Group\n",
      "X-Google-Group-Id\n",
      "List-Post\n",
      "List-Help\n",
      "List-Archive\n",
      "List-Subscribe\n",
      "List-Unsubscribe\n"
     ]
    }
   ],
   "source": [
    "for key in mbox[0].keys():\n",
    "print(key)"
   ]
  },
  {
   "cell_type": "markdown",
   "id": "b7cad5fa-81a4-4284-ba46-9c3c21763ab4",
   "metadata": {},
   "source": [
    "<h2> Data Cleansing </h2>"
   ]
  },
  {
   "cell_type": "code",
   "execution_count": 14,
   "id": "e0d91e04-550f-40e6-8c37-967d2d079aaf",
   "metadata": {},
   "outputs": [],
   "source": [
    "import csv\n",
    "with open('mailbox.csv', 'w') as outputfile:\n",
    " writer = csv.writer(outputfile)\n",
    " writer.writerow(['subject','from','date','to','label','thread'])\n",
    " for message in mbox:\n",
    "    writer.writerow([\n",
    "    message['subject'],\n",
    "    message['from'],\n",
    "    message['date'],\n",
    "    message['to'],\n",
    "    message['X-Gmail-Labels'],\n",
    "    message['X-GM-THRID']\n",
    " ]\n",
    " )\n"
   ]
  },
  {
   "cell_type": "markdown",
   "id": "3a30a967-d4df-45b3-a5b9-39d18b4c3020",
   "metadata": {},
   "source": [
    "<h2>Loading the CSV file</h2>"
   ]
  },
  {
   "cell_type": "code",
   "execution_count": 15,
   "id": "5902ddb3-526a-477c-81b5-c3f293e85668",
   "metadata": {},
   "outputs": [],
   "source": [
    "dfs = pd.read_csv('mailbox.csv', names=['subject', 'from', 'date', 'to',\n",
    "'label', 'thread'])"
   ]
  },
  {
   "cell_type": "markdown",
   "id": "f42803d7-b859-46bb-9607-e24aaedb928b",
   "metadata": {},
   "source": [
    "<h2>Converting the Date</h2>"
   ]
  },
  {
   "cell_type": "code",
   "execution_count": 16,
   "id": "762b66f8-e909-4e86-b213-40fd791e2128",
   "metadata": {},
   "outputs": [
    {
     "data": {
      "text/plain": [
       "subject    object\n",
       "from       object\n",
       "date       object\n",
       "to         object\n",
       "label      object\n",
       "thread     object\n",
       "dtype: object"
      ]
     },
     "execution_count": 16,
     "metadata": {},
     "output_type": "execute_result"
    }
   ],
   "source": [
    "dfs.dtypes"
   ]
  },
  {
   "cell_type": "markdown",
   "id": "df0f25c3-f06b-4bf1-b816-ee4b89545871",
   "metadata": {},
   "source": [
    "<h2>Removing NaN Values</h2>"
   ]
  },
  {
   "cell_type": "code",
   "execution_count": 17,
   "id": "20568f4c-d10f-4623-aa20-2912211d686b",
   "metadata": {},
   "outputs": [],
   "source": [
    "dfs = dfs[dfs['date'].notna()]\n",
    "dfs.to_csv('gmail.csv')"
   ]
  },
  {
   "cell_type": "markdown",
   "id": "4bc952ec-7306-4028-89ec-a238f30290bf",
   "metadata": {},
   "source": [
    "<h2>Applying Descriptive Statistics</h2>"
   ]
  },
  {
   "cell_type": "code",
   "execution_count": 18,
   "id": "9ed0fb62-f676-47d1-ba7d-1234fb0a5c2d",
   "metadata": {},
   "outputs": [
    {
     "name": "stdout",
     "output_type": "stream",
     "text": [
      "<class 'pandas.core.frame.DataFrame'>\n",
      "RangeIndex: 381 entries, 0 to 380\n",
      "Data columns (total 6 columns):\n",
      " #   Column   Non-Null Count  Dtype \n",
      "---  ------   --------------  ----- \n",
      " 0   subject  375 non-null    object\n",
      " 1   from     381 non-null    object\n",
      " 2   date     381 non-null    object\n",
      " 3   to       379 non-null    object\n",
      " 4   label    381 non-null    object\n",
      " 5   thread   381 non-null    object\n",
      "dtypes: object(6)\n",
      "memory usage: 18.0+ KB\n"
     ]
    }
   ],
   "source": [
    "dfs.info()"
   ]
  },
  {
   "cell_type": "code",
   "execution_count": 21,
   "id": "e61e01c5-2247-4ff1-a124-2a56ad4dd566",
   "metadata": {},
   "outputs": [
    {
     "data": {
      "text/html": [
       "<div>\n",
       "<style scoped>\n",
       "    .dataframe tbody tr th:only-of-type {\n",
       "        vertical-align: middle;\n",
       "    }\n",
       "\n",
       "    .dataframe tbody tr th {\n",
       "        vertical-align: top;\n",
       "    }\n",
       "\n",
       "    .dataframe thead th {\n",
       "        text-align: right;\n",
       "    }\n",
       "</style>\n",
       "<table border=\"1\" class=\"dataframe\">\n",
       "  <thead>\n",
       "    <tr style=\"text-align: right;\">\n",
       "      <th></th>\n",
       "      <th>subject</th>\n",
       "      <th>from</th>\n",
       "      <th>date</th>\n",
       "      <th>to</th>\n",
       "      <th>label</th>\n",
       "      <th>thread</th>\n",
       "    </tr>\n",
       "  </thead>\n",
       "  <tbody>\n",
       "    <tr>\n",
       "      <th>371</th>\n",
       "      <td>Minor Degree or Honor Degree (If you want to g...</td>\n",
       "      <td>kanagavalli.n@ritchennai.edu.in</td>\n",
       "      <td>Fri, 21 Jul 2023 13:38:03 +0000</td>\n",
       "      <td>2021.csbs@ritchennai.edu.in</td>\n",
       "      <td>Inbox,Important,Opened,Category Forums</td>\n",
       "      <td>1772037557642717677</td>\n",
       "    </tr>\n",
       "    <tr>\n",
       "      <th>372</th>\n",
       "      <td>Fwd: ML Challenge 2023 Result Update</td>\n",
       "      <td>\"Balaji .K .\" &lt;balaji.k.2021.csbs@ritchennai.e...</td>\n",
       "      <td>Tue, 25 Apr 2023 11:43:40 +0530</td>\n",
       "      <td>GOUTHAM KUMAR S &lt;gouthamkumar.s.2021.csbs@ritc...</td>\n",
       "      <td>Inbox,Important,Opened,Category Personal</td>\n",
       "      <td>1764127652612032446</td>\n",
       "    </tr>\n",
       "    <tr>\n",
       "      <th>373</th>\n",
       "      <td>OS problems</td>\n",
       "      <td>\"Dr.V.Anjana Devi\" &lt;anjanadevi.v@ritchennai.ed...</td>\n",
       "      <td>Wed, 1 Mar 2023 14:18:48 +0530</td>\n",
       "      <td>2021 CSE B &lt;2021.cse.b@ritchennai.edu.in&gt;</td>\n",
       "      <td>Inbox,Opened,Category Forums</td>\n",
       "      <td>1759154431851512335</td>\n",
       "    </tr>\n",
       "    <tr>\n",
       "      <th>374</th>\n",
       "      <td>=?UTF-8?Q?Audio_from_Goutham=F0=9F=98=84?=</td>\n",
       "      <td>GOUTHAM KUMAR S &lt;gouthamkumar.s.2021.csbs@ritc...</td>\n",
       "      <td>Sat, 5 Feb 2022 22:54:14 +0530</td>\n",
       "      <td>\"padmabhkumar@gmail.com\" &lt;padmabhkumar@gmail.com&gt;</td>\n",
       "      <td>Archived,Sent</td>\n",
       "      <td>1723944592652236429</td>\n",
       "    </tr>\n",
       "    <tr>\n",
       "      <th>375</th>\n",
       "      <td>=?UTF-8?Q?Just_released:_Imagine_Austin?=\\r\\n ...</td>\n",
       "      <td>Automation Anywhere &lt;events@automationanywhere...</td>\n",
       "      <td>Tue, 15 Aug 2023 23:34:19 -0500 (CDT)</td>\n",
       "      <td>gouthamkumar.s.2021.csbs@ritchennai.edu.in</td>\n",
       "      <td>Trash,Category Promotions,Unread</td>\n",
       "      <td>1774358847131686048</td>\n",
       "    </tr>\n",
       "    <tr>\n",
       "      <th>376</th>\n",
       "      <td>Bunch of your friends found their mentors, wha...</td>\n",
       "      <td>Unstop Exclusive &lt;noreply@dare2compete.news&gt;</td>\n",
       "      <td>Thu, 24 Aug 2023 11:24:24 +0000</td>\n",
       "      <td>gouthamkumar.s.2021.csbs@ritchennai.edu.in</td>\n",
       "      <td>Trash,Category Updates,Unread</td>\n",
       "      <td>1775109425067055574</td>\n",
       "    </tr>\n",
       "    <tr>\n",
       "      <th>377</th>\n",
       "      <td>Cognizant Tech talk invite | Stepping into the...</td>\n",
       "      <td>Placement RIT &lt;placement@ritchennai.edu.in&gt;</td>\n",
       "      <td>Thu, 22 Sep 2022 09:04:22 +0530</td>\n",
       "      <td>Students 2019 &lt;2019.students@ritchennai.edu.in...</td>\n",
       "      <td>Inbox,Important,Opened,Category Forums</td>\n",
       "      <td>1744639296418640741</td>\n",
       "    </tr>\n",
       "    <tr>\n",
       "      <th>378</th>\n",
       "      <td>Hack and Win- Students opportunity- TechGig (T...</td>\n",
       "      <td>Placement RIT &lt;placement@ritchennai.edu.in&gt;</td>\n",
       "      <td>Wed, 9 Aug 2023 15:17:43 +0545</td>\n",
       "      <td>2020 Batch &lt;2020.students@ritchennai.edu.in&gt;, ...</td>\n",
       "      <td>Important,Trash,Category Forums,Unread</td>\n",
       "      <td>1773744601922855081</td>\n",
       "    </tr>\n",
       "    <tr>\n",
       "      <th>379</th>\n",
       "      <td>Assignment - Operating Systems</td>\n",
       "      <td>\"Dr.V.Anjana Devi\" &lt;anjanadevi.v@ritchennai.ed...</td>\n",
       "      <td>Wed, 15 Mar 2023 14:39:25 +0530</td>\n",
       "      <td>2021 CSBS &lt;2021.csbs@ritchennai.edu.in&gt;</td>\n",
       "      <td>Inbox,Important,Opened,Category Forums</td>\n",
       "      <td>1760424087147123192</td>\n",
       "    </tr>\n",
       "    <tr>\n",
       "      <th>380</th>\n",
       "      <td>Goutham Kumar, use Deep Learning Workbench to ...</td>\n",
       "      <td>Intel Developer Zone &lt;intel.developer.zone@pla...</td>\n",
       "      <td>Sat, 22 Oct 2022 02:51:10 -0400</td>\n",
       "      <td>gouthamkumar.s.2021.csbs@ritchennai.edu.in</td>\n",
       "      <td>Inbox,Important,Opened,Category Promotions</td>\n",
       "      <td>1747369561813564200</td>\n",
       "    </tr>\n",
       "  </tbody>\n",
       "</table>\n",
       "</div>"
      ],
      "text/plain": [
       "                                               subject   \n",
       "371  Minor Degree or Honor Degree (If you want to g...  \\\n",
       "372               Fwd: ML Challenge 2023 Result Update   \n",
       "373                                        OS problems   \n",
       "374         =?UTF-8?Q?Audio_from_Goutham=F0=9F=98=84?=   \n",
       "375  =?UTF-8?Q?Just_released:_Imagine_Austin?=\\r\\n ...   \n",
       "376  Bunch of your friends found their mentors, wha...   \n",
       "377  Cognizant Tech talk invite | Stepping into the...   \n",
       "378  Hack and Win- Students opportunity- TechGig (T...   \n",
       "379                     Assignment - Operating Systems   \n",
       "380  Goutham Kumar, use Deep Learning Workbench to ...   \n",
       "\n",
       "                                                  from   \n",
       "371                    kanagavalli.n@ritchennai.edu.in  \\\n",
       "372  \"Balaji .K .\" <balaji.k.2021.csbs@ritchennai.e...   \n",
       "373  \"Dr.V.Anjana Devi\" <anjanadevi.v@ritchennai.ed...   \n",
       "374  GOUTHAM KUMAR S <gouthamkumar.s.2021.csbs@ritc...   \n",
       "375  Automation Anywhere <events@automationanywhere...   \n",
       "376       Unstop Exclusive <noreply@dare2compete.news>   \n",
       "377        Placement RIT <placement@ritchennai.edu.in>   \n",
       "378        Placement RIT <placement@ritchennai.edu.in>   \n",
       "379  \"Dr.V.Anjana Devi\" <anjanadevi.v@ritchennai.ed...   \n",
       "380  Intel Developer Zone <intel.developer.zone@pla...   \n",
       "\n",
       "                                      date   \n",
       "371        Fri, 21 Jul 2023 13:38:03 +0000  \\\n",
       "372        Tue, 25 Apr 2023 11:43:40 +0530   \n",
       "373         Wed, 1 Mar 2023 14:18:48 +0530   \n",
       "374         Sat, 5 Feb 2022 22:54:14 +0530   \n",
       "375  Tue, 15 Aug 2023 23:34:19 -0500 (CDT)   \n",
       "376        Thu, 24 Aug 2023 11:24:24 +0000   \n",
       "377        Thu, 22 Sep 2022 09:04:22 +0530   \n",
       "378         Wed, 9 Aug 2023 15:17:43 +0545   \n",
       "379        Wed, 15 Mar 2023 14:39:25 +0530   \n",
       "380        Sat, 22 Oct 2022 02:51:10 -0400   \n",
       "\n",
       "                                                    to   \n",
       "371                        2021.csbs@ritchennai.edu.in  \\\n",
       "372  GOUTHAM KUMAR S <gouthamkumar.s.2021.csbs@ritc...   \n",
       "373          2021 CSE B <2021.cse.b@ritchennai.edu.in>   \n",
       "374  \"padmabhkumar@gmail.com\" <padmabhkumar@gmail.com>   \n",
       "375         gouthamkumar.s.2021.csbs@ritchennai.edu.in   \n",
       "376         gouthamkumar.s.2021.csbs@ritchennai.edu.in   \n",
       "377  Students 2019 <2019.students@ritchennai.edu.in...   \n",
       "378  2020 Batch <2020.students@ritchennai.edu.in>, ...   \n",
       "379            2021 CSBS <2021.csbs@ritchennai.edu.in>   \n",
       "380         gouthamkumar.s.2021.csbs@ritchennai.edu.in   \n",
       "\n",
       "                                          label               thread  \n",
       "371      Inbox,Important,Opened,Category Forums  1772037557642717677  \n",
       "372    Inbox,Important,Opened,Category Personal  1764127652612032446  \n",
       "373                Inbox,Opened,Category Forums  1759154431851512335  \n",
       "374                               Archived,Sent  1723944592652236429  \n",
       "375            Trash,Category Promotions,Unread  1774358847131686048  \n",
       "376               Trash,Category Updates,Unread  1775109425067055574  \n",
       "377      Inbox,Important,Opened,Category Forums  1744639296418640741  \n",
       "378      Important,Trash,Category Forums,Unread  1773744601922855081  \n",
       "379      Inbox,Important,Opened,Category Forums  1760424087147123192  \n",
       "380  Inbox,Important,Opened,Category Promotions  1747369561813564200  "
      ]
     },
     "execution_count": 21,
     "metadata": {},
     "output_type": "execute_result"
    }
   ],
   "source": [
    "dfs.tail(10)"
   ]
  },
  {
   "cell_type": "markdown",
   "id": "d3517951-e8b8-4cd9-a95e-8bd89a61a73e",
   "metadata": {},
   "source": [
    "<h2>Data Refracting</h2>"
   ]
  },
  {
   "cell_type": "code",
   "execution_count": 25,
   "id": "8cdde80b-a3bc-42df-ae6d-5a5eb9f7893a",
   "metadata": {},
   "outputs": [],
   "source": [
    "import re\n",
    "def extract_email_ID(string):\n",
    " email = re.findall(r'<(.+?)>', string)\n",
    " if not email:\n",
    "   email = list(filter(lambda y: '@' in y, string.split()))\n",
    " return email[0] if email else np.nan"
   ]
  },
  {
   "cell_type": "code",
   "execution_count": 33,
   "id": "a8868dab-52ff-402b-a7e6-fb29da50d4c3",
   "metadata": {},
   "outputs": [],
   "source": [
    "myemail = 'itsmeskm99@gmail.com'\n",
    "dfs['label'] = dfs['from'].apply(lambda x: 'sent' if x==myemail\n",
    "else 'inbox')"
   ]
  },
  {
   "cell_type": "markdown",
   "id": "4c8ee45a-17e6-4cdb-9f64-126b97c4226d",
   "metadata": {},
   "source": [
    "<h2>Dropping columns</h2>"
   ]
  },
  {
   "cell_type": "code",
   "execution_count": 28,
   "id": "55fe69fb-8a13-4cd1-8b70-ad13ffdc3e48",
   "metadata": {},
   "outputs": [],
   "source": [
    "dfs.drop(columns='to', inplace=True)"
   ]
  },
  {
   "cell_type": "markdown",
   "id": "ee8c9c2a-8bce-485a-b533-4ff9d8a068cb",
   "metadata": {},
   "source": [
    "<h2>Time of Day</h2>"
   ]
  },
  {
   "cell_type": "code",
   "execution_count": 35,
   "id": "e3c7dfea-faee-4b4c-b173-7efd653ba904",
   "metadata": {},
   "outputs": [],
   "source": [
    "sent = dfs[dfs['label']=='sent']\n",
    "received = dfs[dfs['label']=='inbox']"
   ]
  },
  {
   "cell_type": "code",
   "execution_count": 36,
   "id": "de3bb31b-1764-4910-a5e6-b19d0ac28cb4",
   "metadata": {},
   "outputs": [],
   "source": [
    "import matplotlib.pyplot as plt\n",
    "from matplotlib.ticker import MaxNLocator\n",
    "from scipy import ndimage\n",
    "import matplotlib.gridspec as gridspec\n",
    "import matplotlib.patches as mpatches"
   ]
  },
  {
   "cell_type": "code",
   "execution_count": 41,
   "id": "c9dd9d8d-d0ec-4723-9a31-ca7b4b6d2dcd",
   "metadata": {},
   "outputs": [
    {
     "ename": "ValueError",
     "evalue": "We need at least 1 word to plot a word cloud, got 0.",
     "output_type": "error",
     "traceback": [
      "\u001b[1;31m---------------------------------------------------------------------------\u001b[0m",
      "\u001b[1;31mValueError\u001b[0m                                Traceback (most recent call last)",
      "Cell \u001b[1;32mIn[41], line 8\u001b[0m\n\u001b[0;32m      6\u001b[0m \u001b[38;5;28;01mfor\u001b[39;00m sw \u001b[38;5;129;01min\u001b[39;00m stopwords:\n\u001b[0;32m      7\u001b[0m  wrd\u001b[38;5;241m.\u001b[39mstopwords\u001b[38;5;241m.\u001b[39madd(sw)\n\u001b[1;32m----> 8\u001b[0m wordcloud \u001b[38;5;241m=\u001b[39m \u001b[43mwrd\u001b[49m\u001b[38;5;241;43m.\u001b[39;49m\u001b[43mgenerate\u001b[49m\u001b[43m(\u001b[49m\u001b[43mtext\u001b[49m\u001b[43m)\u001b[49m\n\u001b[0;32m      9\u001b[0m plt\u001b[38;5;241m.\u001b[39mfigure(figsize\u001b[38;5;241m=\u001b[39m(\u001b[38;5;241m25\u001b[39m,\u001b[38;5;241m15\u001b[39m))\n\u001b[0;32m     10\u001b[0m plt\u001b[38;5;241m.\u001b[39mimshow(wordcloud, interpolation\u001b[38;5;241m=\u001b[39m\u001b[38;5;124m'\u001b[39m\u001b[38;5;124mbilinear\u001b[39m\u001b[38;5;124m'\u001b[39m)\n",
      "File \u001b[1;32m~\\AppData\\Local\\Programs\\Python\\Python311\\Lib\\site-packages\\wordcloud\\wordcloud.py:639\u001b[0m, in \u001b[0;36mWordCloud.generate\u001b[1;34m(self, text)\u001b[0m\n\u001b[0;32m    624\u001b[0m \u001b[38;5;28;01mdef\u001b[39;00m \u001b[38;5;21mgenerate\u001b[39m(\u001b[38;5;28mself\u001b[39m, text):\n\u001b[0;32m    625\u001b[0m \u001b[38;5;250m    \u001b[39m\u001b[38;5;124;03m\"\"\"Generate wordcloud from text.\u001b[39;00m\n\u001b[0;32m    626\u001b[0m \n\u001b[0;32m    627\u001b[0m \u001b[38;5;124;03m    The input \"text\" is expected to be a natural text. If you pass a sorted\u001b[39;00m\n\u001b[1;32m   (...)\u001b[0m\n\u001b[0;32m    637\u001b[0m \u001b[38;5;124;03m    self\u001b[39;00m\n\u001b[0;32m    638\u001b[0m \u001b[38;5;124;03m    \"\"\"\u001b[39;00m\n\u001b[1;32m--> 639\u001b[0m     \u001b[38;5;28;01mreturn\u001b[39;00m \u001b[38;5;28;43mself\u001b[39;49m\u001b[38;5;241;43m.\u001b[39;49m\u001b[43mgenerate_from_text\u001b[49m\u001b[43m(\u001b[49m\u001b[43mtext\u001b[49m\u001b[43m)\u001b[49m\n",
      "File \u001b[1;32m~\\AppData\\Local\\Programs\\Python\\Python311\\Lib\\site-packages\\wordcloud\\wordcloud.py:621\u001b[0m, in \u001b[0;36mWordCloud.generate_from_text\u001b[1;34m(self, text)\u001b[0m\n\u001b[0;32m    604\u001b[0m \u001b[38;5;250m\u001b[39m\u001b[38;5;124;03m\"\"\"Generate wordcloud from text.\u001b[39;00m\n\u001b[0;32m    605\u001b[0m \n\u001b[0;32m    606\u001b[0m \u001b[38;5;124;03mThe input \"text\" is expected to be a natural text. If you pass a sorted\u001b[39;00m\n\u001b[1;32m   (...)\u001b[0m\n\u001b[0;32m    618\u001b[0m \u001b[38;5;124;03mself\u001b[39;00m\n\u001b[0;32m    619\u001b[0m \u001b[38;5;124;03m\"\"\"\u001b[39;00m\n\u001b[0;32m    620\u001b[0m words \u001b[38;5;241m=\u001b[39m \u001b[38;5;28mself\u001b[39m\u001b[38;5;241m.\u001b[39mprocess_text(text)\n\u001b[1;32m--> 621\u001b[0m \u001b[38;5;28;43mself\u001b[39;49m\u001b[38;5;241;43m.\u001b[39;49m\u001b[43mgenerate_from_frequencies\u001b[49m\u001b[43m(\u001b[49m\u001b[43mwords\u001b[49m\u001b[43m)\u001b[49m\n\u001b[0;32m    622\u001b[0m \u001b[38;5;28;01mreturn\u001b[39;00m \u001b[38;5;28mself\u001b[39m\n",
      "File \u001b[1;32m~\\AppData\\Local\\Programs\\Python\\Python311\\Lib\\site-packages\\wordcloud\\wordcloud.py:410\u001b[0m, in \u001b[0;36mWordCloud.generate_from_frequencies\u001b[1;34m(self, frequencies, max_font_size)\u001b[0m\n\u001b[0;32m    408\u001b[0m frequencies \u001b[38;5;241m=\u001b[39m \u001b[38;5;28msorted\u001b[39m(frequencies\u001b[38;5;241m.\u001b[39mitems(), key\u001b[38;5;241m=\u001b[39mitemgetter(\u001b[38;5;241m1\u001b[39m), reverse\u001b[38;5;241m=\u001b[39m\u001b[38;5;28;01mTrue\u001b[39;00m)\n\u001b[0;32m    409\u001b[0m \u001b[38;5;28;01mif\u001b[39;00m \u001b[38;5;28mlen\u001b[39m(frequencies) \u001b[38;5;241m<\u001b[39m\u001b[38;5;241m=\u001b[39m \u001b[38;5;241m0\u001b[39m:\n\u001b[1;32m--> 410\u001b[0m     \u001b[38;5;28;01mraise\u001b[39;00m \u001b[38;5;167;01mValueError\u001b[39;00m(\u001b[38;5;124m\"\u001b[39m\u001b[38;5;124mWe need at least 1 word to plot a word cloud, \u001b[39m\u001b[38;5;124m\"\u001b[39m\n\u001b[0;32m    411\u001b[0m                      \u001b[38;5;124m\"\u001b[39m\u001b[38;5;124mgot \u001b[39m\u001b[38;5;132;01m%d\u001b[39;00m\u001b[38;5;124m.\u001b[39m\u001b[38;5;124m\"\u001b[39m \u001b[38;5;241m%\u001b[39m \u001b[38;5;28mlen\u001b[39m(frequencies))\n\u001b[0;32m    412\u001b[0m frequencies \u001b[38;5;241m=\u001b[39m frequencies[:\u001b[38;5;28mself\u001b[39m\u001b[38;5;241m.\u001b[39mmax_words]\n\u001b[0;32m    414\u001b[0m \u001b[38;5;66;03m# largest entry will be 1\u001b[39;00m\n",
      "\u001b[1;31mValueError\u001b[0m: We need at least 1 word to plot a word cloud, got 0."
     ]
    }
   ],
   "source": [
    "from wordcloud import WordCloud\n",
    "df_no_arxiv = dfs[dfs['from'] != 'no-reply@arXiv.org']\n",
    "text = ' '.join(map(str, sent['subject'].values))\n",
    "stopwords = ['Re', 'Fwd', '3A_']\n",
    "wrd = WordCloud(width=700, height=480, margin=0, collocations=False)\n",
    "for sw in stopwords:\n",
    " wrd.stopwords.add(sw)\n",
    "wordcloud = wrd.generate(text)\n",
    "plt.figure(figsize=(25,15))\n",
    "plt.imshow(wordcloud, interpolation='bilinear')\n",
    "plt.axis(\"off\")\n",
    "plt.margins(x=0, y=0)"
   ]
  },
  {
   "cell_type": "code",
   "execution_count": null,
   "id": "8348f878-eed9-475d-bc38-9b8cbbaf758e",
   "metadata": {},
   "outputs": [],
   "source": []
  }
 ],
 "metadata": {
  "kernelspec": {
   "display_name": "Python 3 (ipykernel)",
   "language": "python",
   "name": "python3"
  },
  "language_info": {
   "codemirror_mode": {
    "name": "ipython",
    "version": 3
   },
   "file_extension": ".py",
   "mimetype": "text/x-python",
   "name": "python",
   "nbconvert_exporter": "python",
   "pygments_lexer": "ipython3",
   "version": "3.11.0"
  }
 },
 "nbformat": 4,
 "nbformat_minor": 5
}
